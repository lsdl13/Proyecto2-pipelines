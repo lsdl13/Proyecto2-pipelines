{
 "cells": [
  {
   "cell_type": "code",
   "execution_count": 1,
   "metadata": {},
   "outputs": [],
   "source": [
    "import requests\n",
    "from bs4 import BeautifulSoup"
   ]
  },
  {
   "cell_type": "code",
   "execution_count": 2,
   "metadata": {},
   "outputs": [],
   "source": [
    "import pandas as pd"
   ]
  },
  {
   "cell_type": "code",
   "execution_count": 3,
   "metadata": {},
   "outputs": [],
   "source": [
    "import regex as re\n"
   ]
  },
  {
   "cell_type": "code",
   "execution_count": 4,
   "metadata": {},
   "outputs": [],
   "source": [
    "url_eumvp='https://en.wikipedia.org/wiki/EuroLeague_MVP'\n",
    "html_eumvp = requests.get(url_eumvp)"
   ]
  },
  {
   "cell_type": "code",
   "execution_count": 5,
   "metadata": {},
   "outputs": [],
   "source": [
    "soup = BeautifulSoup(html_eumvp.content, \"html.parser\")"
   ]
  },
  {
   "cell_type": "code",
   "execution_count": 6,
   "metadata": {},
   "outputs": [
    {
     "data": {
      "text/plain": [
       "15"
      ]
     },
     "execution_count": 6,
     "metadata": {},
     "output_type": "execute_result"
    }
   ],
   "source": [
    "tablas = soup.find_all(\"table\")\n",
    "len(tablas)"
   ]
  },
  {
   "cell_type": "code",
   "execution_count": 7,
   "metadata": {},
   "outputs": [],
   "source": [
    "tercer = tablas[2]"
   ]
  },
  {
   "cell_type": "code",
   "execution_count": 8,
   "metadata": {},
   "outputs": [],
   "source": [
    "eumvp = soup.find_all(\"table\")[2]"
   ]
  },
  {
   "cell_type": "code",
   "execution_count": 9,
   "metadata": {},
   "outputs": [],
   "source": [
    "eu_mvps = []\n",
    "for f in eumvp.find_all(\"tr\"): \n",
    "    row= [e for e in f.find_all(\"td\")]\n",
    "    if len(row) > 0 :\n",
    "        facts = {\n",
    "            \"season\": row[0].find(\"a\").text.strip(),\n",
    "            \"player\": (row[1].text),\n",
    "            \"position\": (row[2].text),\n",
    "            \"nationality\":(row[3].text),\n",
    "            \"club\":(row[4].text)\n",
    "            \n",
    "            \n",
    "        }\n",
    "        eu_mvps.append(facts)\n"
   ]
  },
  {
   "cell_type": "code",
   "execution_count": 10,
   "metadata": {},
   "outputs": [],
   "source": [
    "data=pd.DataFrame(eu_mvps)"
   ]
  },
  {
   "cell_type": "code",
   "execution_count": 11,
   "metadata": {},
   "outputs": [],
   "source": [
    "data.replace(to_replace=[r\"\\\\t|\\\\n|\\\\r\", \"\\t|\\n|\\r\"], value=[\"\",\"\"], regex=True, inplace=True)\n"
   ]
  },
  {
   "cell_type": "code",
   "execution_count": 13,
   "metadata": {},
   "outputs": [
    {
     "name": "stderr",
     "output_type": "stream",
     "text": [
      "<ipython-input-13-cc2fab71f263>:1: FutureWarning: The default value of regex will change from True to False in a future version. In addition, single character regular expressions will*not* be treated as literal strings when regex=True.\n",
      "  data['player'] = data['player'].str.replace('^', '')\n"
     ]
    }
   ],
   "source": [
    "data['player'] = data['player'].str.replace('^', '')"
   ]
  },
  {
   "cell_type": "code",
   "execution_count": 14,
   "metadata": {},
   "outputs": [
    {
     "data": {
      "text/html": [
       "<div>\n",
       "<style scoped>\n",
       "    .dataframe tbody tr th:only-of-type {\n",
       "        vertical-align: middle;\n",
       "    }\n",
       "\n",
       "    .dataframe tbody tr th {\n",
       "        vertical-align: top;\n",
       "    }\n",
       "\n",
       "    .dataframe thead th {\n",
       "        text-align: right;\n",
       "    }\n",
       "</style>\n",
       "<table border=\"1\" class=\"dataframe\">\n",
       "  <thead>\n",
       "    <tr style=\"text-align: right;\">\n",
       "      <th></th>\n",
       "      <th>season</th>\n",
       "      <th>player</th>\n",
       "      <th>position</th>\n",
       "      <th>nationality</th>\n",
       "      <th>club</th>\n",
       "    </tr>\n",
       "  </thead>\n",
       "  <tbody>\n",
       "    <tr>\n",
       "      <th>0</th>\n",
       "      <td>2004–05</td>\n",
       "      <td>Anthony Parker</td>\n",
       "      <td>SF</td>\n",
       "      <td>United States</td>\n",
       "      <td>Maccabi Tel Aviv</td>\n",
       "    </tr>\n",
       "    <tr>\n",
       "      <th>1</th>\n",
       "      <td>2005–06</td>\n",
       "      <td>Anthony Parker (2)</td>\n",
       "      <td>SF</td>\n",
       "      <td>United States</td>\n",
       "      <td>Maccabi Tel Aviv</td>\n",
       "    </tr>\n",
       "    <tr>\n",
       "      <th>2</th>\n",
       "      <td>2006–07</td>\n",
       "      <td>Theo Papaloukas</td>\n",
       "      <td>PG</td>\n",
       "      <td>Greece</td>\n",
       "      <td>CSKA Moscow</td>\n",
       "    </tr>\n",
       "    <tr>\n",
       "      <th>3</th>\n",
       "      <td>2007–08</td>\n",
       "      <td>Ramūnas Šiškauskas</td>\n",
       "      <td>SF</td>\n",
       "      <td>Lithuania</td>\n",
       "      <td>CSKA Moscow</td>\n",
       "    </tr>\n",
       "    <tr>\n",
       "      <th>4</th>\n",
       "      <td>2008–09</td>\n",
       "      <td>Juan Carlos Navarro</td>\n",
       "      <td>SG</td>\n",
       "      <td>Spain</td>\n",
       "      <td>FC Barcelona</td>\n",
       "    </tr>\n",
       "    <tr>\n",
       "      <th>5</th>\n",
       "      <td>2009–10</td>\n",
       "      <td>Miloš Teodosić</td>\n",
       "      <td>PG</td>\n",
       "      <td>Serbia</td>\n",
       "      <td>Olympiacos</td>\n",
       "    </tr>\n",
       "    <tr>\n",
       "      <th>6</th>\n",
       "      <td>2010–11</td>\n",
       "      <td>Dimitris Diamantidis</td>\n",
       "      <td>PG</td>\n",
       "      <td>Greece</td>\n",
       "      <td>Panathinaikos</td>\n",
       "    </tr>\n",
       "    <tr>\n",
       "      <th>7</th>\n",
       "      <td>2011–12</td>\n",
       "      <td>Andrei Kirilenko</td>\n",
       "      <td>SF</td>\n",
       "      <td>Russia</td>\n",
       "      <td>CSKA Moscow</td>\n",
       "    </tr>\n",
       "    <tr>\n",
       "      <th>8</th>\n",
       "      <td>2012–13</td>\n",
       "      <td>Vassilis Spanoulis</td>\n",
       "      <td>G</td>\n",
       "      <td>Greece</td>\n",
       "      <td>Olympiacos</td>\n",
       "    </tr>\n",
       "    <tr>\n",
       "      <th>9</th>\n",
       "      <td>2013–14</td>\n",
       "      <td>Sergio Rodríguez</td>\n",
       "      <td>PG</td>\n",
       "      <td>Spain</td>\n",
       "      <td>Real Madrid</td>\n",
       "    </tr>\n",
       "    <tr>\n",
       "      <th>10</th>\n",
       "      <td>2014–15</td>\n",
       "      <td>Nemanja Bjelica</td>\n",
       "      <td>PF</td>\n",
       "      <td>Serbia</td>\n",
       "      <td>Fenerbahçe Ülker</td>\n",
       "    </tr>\n",
       "    <tr>\n",
       "      <th>11</th>\n",
       "      <td>2015–16</td>\n",
       "      <td>Nando de Colo</td>\n",
       "      <td>SG</td>\n",
       "      <td>France</td>\n",
       "      <td>CSKA Moscow</td>\n",
       "    </tr>\n",
       "    <tr>\n",
       "      <th>12</th>\n",
       "      <td>2016–17</td>\n",
       "      <td>Sergio Llull</td>\n",
       "      <td>PG</td>\n",
       "      <td>Spain</td>\n",
       "      <td>Real Madrid</td>\n",
       "    </tr>\n",
       "    <tr>\n",
       "      <th>13</th>\n",
       "      <td>2017–18</td>\n",
       "      <td>Luka Dončić</td>\n",
       "      <td>SG</td>\n",
       "      <td>Slovenia</td>\n",
       "      <td>Real Madrid</td>\n",
       "    </tr>\n",
       "    <tr>\n",
       "      <th>14</th>\n",
       "      <td>2018–19</td>\n",
       "      <td>Jan Veselý</td>\n",
       "      <td>PF</td>\n",
       "      <td>Czech Republic</td>\n",
       "      <td>Fenerbahçe</td>\n",
       "    </tr>\n",
       "  </tbody>\n",
       "</table>\n",
       "</div>"
      ],
      "text/plain": [
       "     season                 player position      nationality  \\\n",
       "0   2004–05         Anthony Parker       SF    United States   \n",
       "1   2005–06     Anthony Parker (2)       SF    United States   \n",
       "2   2006–07        Theo Papaloukas       PG           Greece   \n",
       "3   2007–08     Ramūnas Šiškauskas       SF        Lithuania   \n",
       "4   2008–09    Juan Carlos Navarro       SG            Spain   \n",
       "5   2009–10         Miloš Teodosić       PG           Serbia   \n",
       "6   2010–11   Dimitris Diamantidis       PG           Greece   \n",
       "7   2011–12       Andrei Kirilenko       SF           Russia   \n",
       "8   2012–13     Vassilis Spanoulis        G           Greece   \n",
       "9   2013–14       Sergio Rodríguez       PG            Spain   \n",
       "10  2014–15        Nemanja Bjelica       PF           Serbia   \n",
       "11  2015–16          Nando de Colo       SG           France   \n",
       "12  2016–17           Sergio Llull       PG            Spain   \n",
       "13  2017–18            Luka Dončić       SG         Slovenia   \n",
       "14  2018–19             Jan Veselý       PF   Czech Republic   \n",
       "\n",
       "                 club  \n",
       "0    Maccabi Tel Aviv  \n",
       "1    Maccabi Tel Aviv  \n",
       "2         CSKA Moscow  \n",
       "3         CSKA Moscow  \n",
       "4        FC Barcelona  \n",
       "5          Olympiacos  \n",
       "6       Panathinaikos  \n",
       "7         CSKA Moscow  \n",
       "8          Olympiacos  \n",
       "9         Real Madrid  \n",
       "10   Fenerbahçe Ülker  \n",
       "11        CSKA Moscow  \n",
       "12        Real Madrid  \n",
       "13        Real Madrid  \n",
       "14         Fenerbahçe  "
      ]
     },
     "execution_count": 14,
     "metadata": {},
     "output_type": "execute_result"
    }
   ],
   "source": [
    "data"
   ]
  },
  {
   "cell_type": "code",
   "execution_count": null,
   "metadata": {},
   "outputs": [],
   "source": []
  }
 ],
 "metadata": {
  "kernelspec": {
   "display_name": "ironhack",
   "language": "python",
   "name": "ironhack"
  },
  "language_info": {
   "codemirror_mode": {
    "name": "ipython",
    "version": 3
   },
   "file_extension": ".py",
   "mimetype": "text/x-python",
   "name": "python",
   "nbconvert_exporter": "python",
   "pygments_lexer": "ipython3",
   "version": "3.8.5"
  }
 },
 "nbformat": 4,
 "nbformat_minor": 4
}
